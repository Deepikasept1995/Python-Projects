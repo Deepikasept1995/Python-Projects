{
 "cells": [
  {
   "cell_type": "markdown",
   "id": "6ed76bac",
   "metadata": {},
   "source": [
    "Importing libraries"
   ]
  },
  {
   "cell_type": "code",
   "execution_count": 156,
   "id": "1d7e2a92",
   "metadata": {},
   "outputs": [],
   "source": [
    "import pandas as pd\n",
    "import numpy as np\n",
    "import seaborn as sns\n",
    "import matplotlib.pyplot as plt"
   ]
  },
  {
   "cell_type": "markdown",
   "id": "7ba029a5",
   "metadata": {},
   "source": [
    "Importing Files"
   ]
  },
  {
   "cell_type": "code",
   "execution_count": 157,
   "id": "ad531eeb",
   "metadata": {},
   "outputs": [],
   "source": [
    "df1=pd.read_csv(\"/Users/deepikachadha/Desktop/HR_1.csv\")\n",
    "df2=pd.read_csv(\"/Users/deepikachadha/Desktop/HR_2.csv\")"
   ]
  },
  {
   "cell_type": "markdown",
   "id": "5f8ebaaa",
   "metadata": {},
   "source": [
    "Merging Files"
   ]
  },
  {
   "cell_type": "code",
   "execution_count": 158,
   "id": "98ce7725",
   "metadata": {},
   "outputs": [],
   "source": [
    "merged_df=pd.merge(df1, df2, left_on='EmployeeNumber', right_on='Employee ID', how='inner')\n"
   ]
  },
  {
   "cell_type": "markdown",
   "id": "5b31e9f8",
   "metadata": {},
   "source": [
    "To check the shape of the dataframe"
   ]
  },
  {
   "cell_type": "code",
   "execution_count": 86,
   "id": "fa505ffb",
   "metadata": {},
   "outputs": [
    {
     "data": {
      "text/plain": [
       "(50000, 36)"
      ]
     },
     "execution_count": 86,
     "metadata": {},
     "output_type": "execute_result"
    }
   ],
   "source": [
    "merged_df.shape"
   ]
  },
  {
   "cell_type": "markdown",
   "id": "a1916dbb",
   "metadata": {},
   "source": [
    "To Know the names of the columns"
   ]
  },
  {
   "cell_type": "code",
   "execution_count": 87,
   "id": "3e8deab7",
   "metadata": {},
   "outputs": [
    {
     "data": {
      "text/plain": [
       "Index(['Age', 'Attrition', 'BusinessTravel', 'DailyRate', 'Department',\n",
       "       'DistanceFromHome', 'Education', 'EducationField', 'EmployeeCount',\n",
       "       'EmployeeNumber', 'EnvironmentSatisfaction', 'Gender', 'HourlyRate',\n",
       "       'JobInvolvement', 'JobLevel', 'JobRole', 'JobSatisfaction',\n",
       "       'MaritalStatus', 'Employee ID', 'MonthlyIncome', 'MonthlyRate',\n",
       "       'NumCompaniesWorked', 'Over18', 'OverTime', 'PercentSalaryHike',\n",
       "       'PerformanceRating', 'RelationshipSatisfaction', 'StandardHours',\n",
       "       'StockOptionLevel', 'TotalWorkingYears', 'TrainingTimesLastYear',\n",
       "       'WorkLifeBalance', 'YearsAtCompany', 'YearsInCurrentRole',\n",
       "       'YearsSinceLastPromotion', 'YearsWithCurrManager'],\n",
       "      dtype='object')"
      ]
     },
     "execution_count": 87,
     "metadata": {},
     "output_type": "execute_result"
    }
   ],
   "source": [
    "merged_df.columns"
   ]
  },
  {
   "cell_type": "markdown",
   "id": "88400e5d",
   "metadata": {},
   "source": [
    "To print the top 5 rows of the dataframe"
   ]
  },
  {
   "cell_type": "code",
   "execution_count": 88,
   "id": "3986a282",
   "metadata": {},
   "outputs": [
    {
     "data": {
      "text/html": [
       "<div>\n",
       "<style scoped>\n",
       "    .dataframe tbody tr th:only-of-type {\n",
       "        vertical-align: middle;\n",
       "    }\n",
       "\n",
       "    .dataframe tbody tr th {\n",
       "        vertical-align: top;\n",
       "    }\n",
       "\n",
       "    .dataframe thead th {\n",
       "        text-align: right;\n",
       "    }\n",
       "</style>\n",
       "<table border=\"1\" class=\"dataframe\">\n",
       "  <thead>\n",
       "    <tr style=\"text-align: right;\">\n",
       "      <th></th>\n",
       "      <th>Age</th>\n",
       "      <th>Attrition</th>\n",
       "      <th>BusinessTravel</th>\n",
       "      <th>DailyRate</th>\n",
       "      <th>Department</th>\n",
       "      <th>DistanceFromHome</th>\n",
       "      <th>Education</th>\n",
       "      <th>EducationField</th>\n",
       "      <th>EmployeeCount</th>\n",
       "      <th>EmployeeNumber</th>\n",
       "      <th>...</th>\n",
       "      <th>RelationshipSatisfaction</th>\n",
       "      <th>StandardHours</th>\n",
       "      <th>StockOptionLevel</th>\n",
       "      <th>TotalWorkingYears</th>\n",
       "      <th>TrainingTimesLastYear</th>\n",
       "      <th>WorkLifeBalance</th>\n",
       "      <th>YearsAtCompany</th>\n",
       "      <th>YearsInCurrentRole</th>\n",
       "      <th>YearsSinceLastPromotion</th>\n",
       "      <th>YearsWithCurrManager</th>\n",
       "    </tr>\n",
       "  </thead>\n",
       "  <tbody>\n",
       "    <tr>\n",
       "      <th>0</th>\n",
       "      <td>31</td>\n",
       "      <td>No</td>\n",
       "      <td>Non-Travel</td>\n",
       "      <td>158</td>\n",
       "      <td>Software</td>\n",
       "      <td>7</td>\n",
       "      <td>3</td>\n",
       "      <td>Medical</td>\n",
       "      <td>1</td>\n",
       "      <td>1</td>\n",
       "      <td>...</td>\n",
       "      <td>1</td>\n",
       "      <td>80</td>\n",
       "      <td>2</td>\n",
       "      <td>15</td>\n",
       "      <td>1</td>\n",
       "      <td>2</td>\n",
       "      <td>12</td>\n",
       "      <td>4</td>\n",
       "      <td>10</td>\n",
       "      <td>11</td>\n",
       "    </tr>\n",
       "    <tr>\n",
       "      <th>1</th>\n",
       "      <td>38</td>\n",
       "      <td>No</td>\n",
       "      <td>Travel_Rarely</td>\n",
       "      <td>985</td>\n",
       "      <td>Human Resources</td>\n",
       "      <td>33</td>\n",
       "      <td>5</td>\n",
       "      <td>Life Sciences</td>\n",
       "      <td>1</td>\n",
       "      <td>2</td>\n",
       "      <td>...</td>\n",
       "      <td>3</td>\n",
       "      <td>80</td>\n",
       "      <td>4</td>\n",
       "      <td>5</td>\n",
       "      <td>4</td>\n",
       "      <td>3</td>\n",
       "      <td>1</td>\n",
       "      <td>1</td>\n",
       "      <td>1</td>\n",
       "      <td>1</td>\n",
       "    </tr>\n",
       "    <tr>\n",
       "      <th>2</th>\n",
       "      <td>59</td>\n",
       "      <td>Yes</td>\n",
       "      <td>Non-Travel</td>\n",
       "      <td>1273</td>\n",
       "      <td>Sales</td>\n",
       "      <td>5</td>\n",
       "      <td>2</td>\n",
       "      <td>Technical Degree</td>\n",
       "      <td>1</td>\n",
       "      <td>3</td>\n",
       "      <td>...</td>\n",
       "      <td>2</td>\n",
       "      <td>80</td>\n",
       "      <td>2</td>\n",
       "      <td>9</td>\n",
       "      <td>5</td>\n",
       "      <td>1</td>\n",
       "      <td>6</td>\n",
       "      <td>6</td>\n",
       "      <td>4</td>\n",
       "      <td>3</td>\n",
       "    </tr>\n",
       "    <tr>\n",
       "      <th>3</th>\n",
       "      <td>52</td>\n",
       "      <td>Yes</td>\n",
       "      <td>Travel_Rarely</td>\n",
       "      <td>480</td>\n",
       "      <td>Support</td>\n",
       "      <td>2</td>\n",
       "      <td>5</td>\n",
       "      <td>Marketing</td>\n",
       "      <td>1</td>\n",
       "      <td>4</td>\n",
       "      <td>...</td>\n",
       "      <td>2</td>\n",
       "      <td>80</td>\n",
       "      <td>2</td>\n",
       "      <td>22</td>\n",
       "      <td>4</td>\n",
       "      <td>4</td>\n",
       "      <td>10</td>\n",
       "      <td>9</td>\n",
       "      <td>5</td>\n",
       "      <td>6</td>\n",
       "    </tr>\n",
       "    <tr>\n",
       "      <th>4</th>\n",
       "      <td>32</td>\n",
       "      <td>No</td>\n",
       "      <td>Non-Travel</td>\n",
       "      <td>543</td>\n",
       "      <td>Human Resources</td>\n",
       "      <td>7</td>\n",
       "      <td>5</td>\n",
       "      <td>Human Resources</td>\n",
       "      <td>1</td>\n",
       "      <td>5</td>\n",
       "      <td>...</td>\n",
       "      <td>4</td>\n",
       "      <td>80</td>\n",
       "      <td>2</td>\n",
       "      <td>30</td>\n",
       "      <td>3</td>\n",
       "      <td>4</td>\n",
       "      <td>29</td>\n",
       "      <td>27</td>\n",
       "      <td>9</td>\n",
       "      <td>7</td>\n",
       "    </tr>\n",
       "  </tbody>\n",
       "</table>\n",
       "<p>5 rows × 36 columns</p>\n",
       "</div>"
      ],
      "text/plain": [
       "   Age Attrition BusinessTravel  DailyRate       Department  DistanceFromHome  \\\n",
       "0   31        No     Non-Travel        158         Software                 7   \n",
       "1   38        No  Travel_Rarely        985  Human Resources                33   \n",
       "2   59       Yes     Non-Travel       1273            Sales                 5   \n",
       "3   52       Yes  Travel_Rarely        480          Support                 2   \n",
       "4   32        No     Non-Travel        543  Human Resources                 7   \n",
       "\n",
       "   Education    EducationField  EmployeeCount  EmployeeNumber  ...  \\\n",
       "0          3           Medical              1               1  ...   \n",
       "1          5     Life Sciences              1               2  ...   \n",
       "2          2  Technical Degree              1               3  ...   \n",
       "3          5         Marketing              1               4  ...   \n",
       "4          5   Human Resources              1               5  ...   \n",
       "\n",
       "   RelationshipSatisfaction StandardHours  StockOptionLevel  \\\n",
       "0                         1            80                 2   \n",
       "1                         3            80                 4   \n",
       "2                         2            80                 2   \n",
       "3                         2            80                 2   \n",
       "4                         4            80                 2   \n",
       "\n",
       "   TotalWorkingYears  TrainingTimesLastYear WorkLifeBalance  YearsAtCompany  \\\n",
       "0                 15                      1               2              12   \n",
       "1                  5                      4               3               1   \n",
       "2                  9                      5               1               6   \n",
       "3                 22                      4               4              10   \n",
       "4                 30                      3               4              29   \n",
       "\n",
       "  YearsInCurrentRole  YearsSinceLastPromotion  YearsWithCurrManager  \n",
       "0                  4                       10                    11  \n",
       "1                  1                        1                     1  \n",
       "2                  6                        4                     3  \n",
       "3                  9                        5                     6  \n",
       "4                 27                        9                     7  \n",
       "\n",
       "[5 rows x 36 columns]"
      ]
     },
     "execution_count": 88,
     "metadata": {},
     "output_type": "execute_result"
    }
   ],
   "source": [
    "merged_df.head()"
   ]
  },
  {
   "cell_type": "markdown",
   "id": "5bc272ec",
   "metadata": {},
   "source": [
    "KPI's"
   ]
  },
  {
   "cell_type": "code",
   "execution_count": 89,
   "id": "0affb7ab",
   "metadata": {},
   "outputs": [
    {
     "name": "stdout",
     "output_type": "stream",
     "text": [
      "Total no. of Employees = 50000\n",
      "Attrition count= 25105\n",
      "Attrition rate=, 50.21%\n",
      "Active Employee count= 24895\n",
      "Average Age of Employees=, 39\n"
     ]
    }
   ],
   "source": [
    "Employee_count= merged_df[\"EmployeeNumber\"].nunique()\n",
    "print(\"Total no. of Employees =\", Employee_count)\n",
    "attrition_counts = merged_df[merged_df['Attrition']==\"Yes\"].shape[0]\n",
    "print(\"Attrition count=\", attrition_counts)\n",
    "Attrition_rate= (attrition_counts/Employee_count)*100\n",
    "print(f\"Attrition rate=, {Attrition_rate:,.2f}%\")\n",
    "Active_Employee= Employee_count - attrition_counts\n",
    "print(\"Active Employee count=\", Active_Employee)\n",
    "Average_Age=merged_df[\"Age\"].mean()\n",
    "print(f\"Average Age of Employees=, {Average_Age:,.0f}\")\n"
   ]
  },
  {
   "cell_type": "markdown",
   "id": "8b433562",
   "metadata": {},
   "source": [
    "Gender Wise Count"
   ]
  },
  {
   "cell_type": "code",
   "execution_count": 90,
   "id": "77bf7a47",
   "metadata": {},
   "outputs": [
    {
     "data": {
      "text/plain": [
       "Gender\n",
       "Male      25059\n",
       "Female    24941\n",
       "Name: count, dtype: int64"
      ]
     },
     "execution_count": 90,
     "metadata": {},
     "output_type": "execute_result"
    }
   ],
   "source": [
    "merged_df[\"Gender\"].value_counts()"
   ]
  },
  {
   "cell_type": "markdown",
   "id": "aacc13e0",
   "metadata": {},
   "source": [
    "Gender Wise Average Hourly Rate"
   ]
  },
  {
   "cell_type": "code",
   "execution_count": 91,
   "id": "f33564b8",
   "metadata": {},
   "outputs": [
    {
     "data": {
      "text/plain": [
       "Gender\n",
       "Female    115.253\n",
       "Male      115.612\n",
       "Name: HourlyRate, dtype: float64"
      ]
     },
     "execution_count": 91,
     "metadata": {},
     "output_type": "execute_result"
    }
   ],
   "source": [
    "merged_df.groupby(\"Gender\")[\"HourlyRate\"].mean().round(3)\n"
   ]
  },
  {
   "cell_type": "markdown",
   "id": "c09ece9f",
   "metadata": {},
   "source": [
    "Average Working years for each Department"
   ]
  },
  {
   "cell_type": "code",
   "execution_count": 93,
   "id": "1702d887",
   "metadata": {},
   "outputs": [
    {
     "data": {
      "text/plain": [
       "Department\n",
       "Hardware                  20.48\n",
       "Human Resources           20.45\n",
       "Research & Development    20.30\n",
       "Sales                     20.62\n",
       "Software                  20.65\n",
       "Support                   20.48\n",
       "Name: TotalWorkingYears, dtype: float64"
      ]
     },
     "execution_count": 93,
     "metadata": {},
     "output_type": "execute_result"
    }
   ],
   "source": [
    "merged_df.groupby(\"Department\")[\"TotalWorkingYears\"].mean().round(2 )"
   ]
  },
  {
   "cell_type": "markdown",
   "id": "45147c34",
   "metadata": {},
   "source": [
    "Department wise Average Attrition Rate"
   ]
  },
  {
   "cell_type": "code",
   "execution_count": 60,
   "id": "362c0075",
   "metadata": {},
   "outputs": [
    {
     "name": "stdout",
     "output_type": "stream",
     "text": [
      "Department\n",
      "Research & Development    0.51\n",
      "Software                  0.51\n",
      "Human Resources           0.50\n",
      "Sales                     0.50\n",
      "Support                   0.50\n",
      "Hardware                  0.49\n",
      "Name: Attrition_Flag, dtype: float64\n",
      "Overall attrition rate=, 0.50\n"
     ]
    }
   ],
   "source": [
    "# Convert Attrition to numerical values\n",
    "merged_df[\"Attrition_Flag\"]=merged_df[\"Attrition\"].apply(lambda x: 1 if x==\"Yes\" else 0)\n",
    "\n",
    "# Group by Department and calculate the attrition rate\n",
    "Department_attrition_rate=merged_df.groupby(\"Department\")[\"Attrition_Flag\"].mean().round(2)\n",
    "\n",
    "# Sort the attrition rate in descending order\n",
    "Department_attrition_rate= Department_attrition_rate.sort_values(ascending=False)\n",
    "\n",
    "# Display results\n",
    "print(Department_attrition_rate)\n",
    "\n",
    "# Overall attrition rate\n",
    "overall_attrition_rate= merged_df[\"Attrition_Flag\"].mean().round(2)\n",
    "print(f\"Overall attrition rate=, {overall_attrition_rate:,.2f}\")"
   ]
  },
  {
   "cell_type": "markdown",
   "id": "72e002f6",
   "metadata": {},
   "source": [
    "Job Role wise average work life balance"
   ]
  },
  {
   "cell_type": "code",
   "execution_count": 62,
   "id": "90ab42e2",
   "metadata": {},
   "outputs": [
    {
     "data": {
      "text/plain": [
       "JobRole\n",
       "Developer                    2.51\n",
       "Healthcare Representative    2.51\n",
       "Human Resources              2.51\n",
       "Laboratory Technician        2.49\n",
       "Manager                      2.50\n",
       "Manufacturing Director       2.50\n",
       "Research Director            2.49\n",
       "Research Scientist           2.51\n",
       "Sales Executive              2.47\n",
       "Sales Representative         2.50\n",
       "Name: WorkLifeBalance, dtype: float64"
      ]
     },
     "execution_count": 62,
     "metadata": {},
     "output_type": "execute_result"
    }
   ],
   "source": [
    "merged_df.groupby(\"JobRole\")[\"WorkLifeBalance\"].mean().round(2)"
   ]
  },
  {
   "cell_type": "markdown",
   "id": "6ec97d20",
   "metadata": {},
   "source": [
    "Charts"
   ]
  },
  {
   "cell_type": "markdown",
   "id": "b7be41aa",
   "metadata": {},
   "source": [
    "Department and Gender wise average hourly rate"
   ]
  },
  {
   "cell_type": "code",
   "execution_count": 125,
   "id": "ba99cbb5",
   "metadata": {},
   "outputs": [
    {
     "data": {
      "image/png": "[encoded data removed]",
      "text/plain": [
       "<Figure size 1000x600 with 1 Axes>"
      ]
     },
     "metadata": {},
     "output_type": "display_data"
    }
   ],
   "source": [
    "plt.figure(figsize=(10, 6))\n",
    "ax= sns.barplot(x=\"Department\", y=\"HourlyRate\", data=merged_df, hue=\"Gender\", palette=\"Set2\")\n",
    "ax.set_title(\"Average Hourly Rate by Department\")\n",
    "ax.set_xlabel(\"Department\")\n",
    "ax.get_yaxis().set_visible(False)\n",
    "for container in ax.containers:\n",
    "    ax.bar_label(container, fmt='%.2f', label_type='edge', fontsize=8, padding=3)\n",
    "plt.xticks(rotation=45)\n",
    "plt.legend\n",
    "plt.show()\n",
    "\n"
   ]
  },
  {
   "cell_type": "markdown",
   "id": "f78b0917",
   "metadata": {},
   "source": [
    "Age Group wise Employee Count"
   ]
  },
  {
   "cell_type": "code",
   "execution_count": 165,
   "id": "5a2b3b00",
   "metadata": {},
   "outputs": [
    {
     "name": "stderr",
     "output_type": "stream",
     "text": [
      "/var/folders/qw/bsy30hf50751czt8jkb7k_2w0000gn/T/ipykernel_7119/2619138698.py:8: FutureWarning: \n",
      "\n",
      "Passing `palette` without assigning `hue` is deprecated and will be removed in v0.14.0. Assign the `x` variable to `hue` and set `legend=False` for the same effect.\n",
      "\n",
      "  sns.barplot(x=age_group_counts.index, y=age_group_counts.values, palette=\"viridis\")\n"
     ]
    },
    {
     "data": {
      "image/png": "[encoded data removed]",
      "text/plain": [
       "<Figure size 800x500 with 1 Axes>"
      ]
     },
     "metadata": {},
     "output_type": "display_data"
    }
   ],
   "source": [
    "bins=[15, 25, 35, 45, 55, 65]\n",
    "labels=[\"15-25\", \"25-35\", \"35-45\", \"45-55\", \"55-65\"]\n",
    "merged_df[\"Age_group\"]=pd.cut(merged_df[\"Age\"], bins=bins, labels=labels, right=False)\n",
    "# Count the number of employees in each age group\n",
    "age_group_counts=merged_df[\"Age_group\"].value_counts().sort_index()\n",
    "# Plot the age group counts\n",
    "plt.figure(figsize=(8, 5))\n",
    "sns.barplot(x=age_group_counts.index, y=age_group_counts.values, palette=\"viridis\")\n",
    "plt.title(\"Employee Count by Age Group\")\n",
    "plt.xlabel(\"Age Group\")\n",
    "plt.ylabel(\"\") \n",
    "\n",
    "# Add values on top of the bars\n",
    "for i, count in enumerate(age_group_counts):\n",
    "    plt.text(i, count + 0.5, str(count), ha='center', va='bottom', fontsize=10)\n",
    "plt.xticks(rotation=45)\n",
    "plt.yticks([])\n",
    "plt.show()"
   ]
  },
  {
   "cell_type": "markdown",
   "id": "7b607710",
   "metadata": {},
   "source": [
    "Employee Count by Year Since Last Promotion"
   ]
  },
  {
   "cell_type": "code",
   "execution_count": 166,
   "id": "9e60a9b2",
   "metadata": {},
   "outputs": [
    {
     "data": {
      "image/png": "[encoded data removed]",
      "text/plain": [
       "<Figure size 800x500 with 1 Axes>"
      ]
     },
     "metadata": {},
     "output_type": "display_data"
    }
   ],
   "source": [
    "sns.set\n",
    "plt.figure(figsize=(8, 5))\n",
    "ax= sns.histplot(x=\"YearsSinceLastPromotion\",bins=10, kde= False, color=\"green\", data=merged_df)\n",
    "# Add values on top of the bars\n",
    "for p in ax.patches:\n",
    "    if p.get_height() > 0:\n",
    "        ax.annotate(f'{int(p.get_height())}', (p.get_x() + p.get_width() / 2., p.get_height()), ha='center', va='bottom', fontsize=10)\n",
    "plt.title(\"Distribution of Years Since Last Promotion\")\n",
    "plt.xlabel(\"Years Since Last Promotion\")\n",
    "plt.ylabel(\"\")\n",
    "plt.yticks([])\n",
    "plt.show()"
   ]
  }
 ],
 "metadata": {
  "kernelspec": {
   "display_name": "Python 3",
   "language": "python",
   "name": "python3"
  },
  "language_info": {
   "codemirror_mode": {
    "name": "ipython",
    "version": 3
   },
   "file_extension": ".py",
   "mimetype": "text/x-python",
   "name": "python",
   "nbconvert_exporter": "python",
   "pygments_lexer": "ipython3",
   "version": "3.13.3"
  }
 },
 "nbformat": 4,
 "nbformat_minor": 5
}
